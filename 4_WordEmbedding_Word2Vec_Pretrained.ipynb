{
  "nbformat": 4,
  "nbformat_minor": 0,
  "metadata": {
    "colab": {
      "provenance": [],
      "gpuType": "T4"
    },
    "kernelspec": {
      "name": "python3",
      "display_name": "Python 3"
    },
    "language_info": {
      "name": "python"
    },
    "accelerator": "GPU"
  },
  "cells": [
    {
      "cell_type": "code",
      "execution_count": 2,
      "metadata": {
        "id": "nCRr9yDaCBzp"
      },
      "outputs": [],
      "source": [
        "#import the gensim library\n",
        "import gensim"
      ]
    },
    {
      "cell_type": "code",
      "source": [
        "from gensim.models import Word2Vec, KeyedVectors"
      ],
      "metadata": {
        "id": "n3MLGNtZDiYE"
      },
      "execution_count": 3,
      "outputs": []
    },
    {
      "cell_type": "code",
      "source": [
        "!pip install wget\n",
        "#if i want to get anything from the web url to local download then we can use this library"
      ],
      "metadata": {
        "colab": {
          "base_uri": "https://localhost:8080/"
        },
        "id": "CQgCAANKEHrv",
        "outputId": "6806dabf-47b5-4726-b5cc-44aba393250f"
      },
      "execution_count": 9,
      "outputs": [
        {
          "output_type": "stream",
          "name": "stdout",
          "text": [
            "Requirement already satisfied: wget in /usr/local/lib/python3.10/dist-packages (3.2)\n"
          ]
        }
      ]
    },
    {
      "cell_type": "code",
      "source": [
        "#!wget -c \"https://s3.amazonaws.com/dl4j-distribution/GoogleNews-vectors-negative300.bin.gz\"\n",
        "#!wget -c \"https://github.com/mmihaltz/word2vec-GoogleNews-vectors/blob/master/GoogleNews-vectors-negative300.bin.gz\""
      ],
      "metadata": {
        "colab": {
          "base_uri": "https://localhost:8080/"
        },
        "id": "QfVTD3WZEQgt",
        "outputId": "711b461c-2b97-43ca-8a4d-fc4a5064f56e"
      },
      "execution_count": 15,
      "outputs": [
        {
          "output_type": "stream",
          "name": "stdout",
          "text": [
            "--2024-04-26 11:33:23--  https://github.com/mmihaltz/word2vec-GoogleNews-vectors/blob/master/GoogleNews-vectors-negative300.bin.gz\n",
            "Resolving github.com (github.com)... 140.82.114.4\n",
            "Connecting to github.com (github.com)|140.82.114.4|:443... connected.\n",
            "HTTP request sent, awaiting response... 200 OK\n",
            "Length: unspecified [text/html]\n",
            "Saving to: ‘GoogleNews-vectors-negative300.bin.gz’\n",
            "\n",
            "GoogleNews-vectors-     [ <=>                ] 282.90K  --.-KB/s    in 0.1s    \n",
            "\n",
            "2024-04-26 11:33:24 (2.14 MB/s) - ‘GoogleNews-vectors-negative300.bin.gz’ saved [289692]\n",
            "\n"
          ]
        }
      ]
    },
    {
      "cell_type": "code",
      "source": [
        "#here i take 5 lacks of words from the model and read it from drive\n",
        "#model = KeyedVectors.load_word2vec_format(\"/content/drive/MyDrive/GoogleNews-vectors-negative300.bin.gz\",binary=True,limit=500000)"
      ],
      "metadata": {
        "colab": {
          "base_uri": "https://localhost:8080/",
          "height": 304
        },
        "id": "r6lx0VlUE7ks",
        "outputId": "6f613c53-bd68-492e-deeb-710bd2e7b907"
      },
      "execution_count": 12,
      "outputs": [
        {
          "output_type": "error",
          "ename": "BadGzipFile",
          "evalue": "Not a gzipped file (b've')",
          "traceback": [
            "\u001b[0;31m---------------------------------------------------------------------------\u001b[0m",
            "\u001b[0;31mBadGzipFile\u001b[0m                               Traceback (most recent call last)",
            "\u001b[0;32m<ipython-input-12-656ad09e3d2a>\u001b[0m in \u001b[0;36m<cell line: 2>\u001b[0;34m()\u001b[0m\n\u001b[1;32m      1\u001b[0m \u001b[0;31m#here i take 5 lacks of words from the model and read it from drive\u001b[0m\u001b[0;34m\u001b[0m\u001b[0;34m\u001b[0m\u001b[0m\n\u001b[0;32m----> 2\u001b[0;31m \u001b[0mmodel\u001b[0m \u001b[0;34m=\u001b[0m \u001b[0mKeyedVectors\u001b[0m\u001b[0;34m.\u001b[0m\u001b[0mload_word2vec_format\u001b[0m\u001b[0;34m(\u001b[0m\u001b[0;34m\"/content/drive/MyDrive/GoogleNews-vectors-negative300.bin.gz\"\u001b[0m\u001b[0;34m,\u001b[0m\u001b[0mbinary\u001b[0m\u001b[0;34m=\u001b[0m\u001b[0;32mTrue\u001b[0m\u001b[0;34m,\u001b[0m\u001b[0mlimit\u001b[0m\u001b[0;34m=\u001b[0m\u001b[0;36m500000\u001b[0m\u001b[0;34m)\u001b[0m\u001b[0;34m\u001b[0m\u001b[0;34m\u001b[0m\u001b[0m\n\u001b[0m",
            "\u001b[0;32m/usr/local/lib/python3.10/dist-packages/gensim/models/keyedvectors.py\u001b[0m in \u001b[0;36mload_word2vec_format\u001b[0;34m(cls, fname, fvocab, binary, encoding, unicode_errors, limit, datatype, no_header)\u001b[0m\n\u001b[1;32m   1717\u001b[0m \u001b[0;34m\u001b[0m\u001b[0m\n\u001b[1;32m   1718\u001b[0m         \"\"\"\n\u001b[0;32m-> 1719\u001b[0;31m         return _load_word2vec_format(\n\u001b[0m\u001b[1;32m   1720\u001b[0m             \u001b[0mcls\u001b[0m\u001b[0;34m,\u001b[0m \u001b[0mfname\u001b[0m\u001b[0;34m,\u001b[0m \u001b[0mfvocab\u001b[0m\u001b[0;34m=\u001b[0m\u001b[0mfvocab\u001b[0m\u001b[0;34m,\u001b[0m \u001b[0mbinary\u001b[0m\u001b[0;34m=\u001b[0m\u001b[0mbinary\u001b[0m\u001b[0;34m,\u001b[0m \u001b[0mencoding\u001b[0m\u001b[0;34m=\u001b[0m\u001b[0mencoding\u001b[0m\u001b[0;34m,\u001b[0m \u001b[0municode_errors\u001b[0m\u001b[0;34m=\u001b[0m\u001b[0municode_errors\u001b[0m\u001b[0;34m,\u001b[0m\u001b[0;34m\u001b[0m\u001b[0;34m\u001b[0m\u001b[0m\n\u001b[1;32m   1721\u001b[0m             \u001b[0mlimit\u001b[0m\u001b[0;34m=\u001b[0m\u001b[0mlimit\u001b[0m\u001b[0;34m,\u001b[0m \u001b[0mdatatype\u001b[0m\u001b[0;34m=\u001b[0m\u001b[0mdatatype\u001b[0m\u001b[0;34m,\u001b[0m \u001b[0mno_header\u001b[0m\u001b[0;34m=\u001b[0m\u001b[0mno_header\u001b[0m\u001b[0;34m,\u001b[0m\u001b[0;34m\u001b[0m\u001b[0;34m\u001b[0m\u001b[0m\n",
            "\u001b[0;32m/usr/local/lib/python3.10/dist-packages/gensim/models/keyedvectors.py\u001b[0m in \u001b[0;36m_load_word2vec_format\u001b[0;34m(cls, fname, fvocab, binary, encoding, unicode_errors, limit, datatype, no_header, binary_chunk_size)\u001b[0m\n\u001b[1;32m   2056\u001b[0m             \u001b[0mfin\u001b[0m \u001b[0;34m=\u001b[0m \u001b[0mutils\u001b[0m\u001b[0;34m.\u001b[0m\u001b[0mopen\u001b[0m\u001b[0;34m(\u001b[0m\u001b[0mfname\u001b[0m\u001b[0;34m,\u001b[0m \u001b[0;34m'rb'\u001b[0m\u001b[0;34m)\u001b[0m\u001b[0;34m\u001b[0m\u001b[0;34m\u001b[0m\u001b[0m\n\u001b[1;32m   2057\u001b[0m         \u001b[0;32melse\u001b[0m\u001b[0;34m:\u001b[0m\u001b[0;34m\u001b[0m\u001b[0;34m\u001b[0m\u001b[0m\n\u001b[0;32m-> 2058\u001b[0;31m             \u001b[0mheader\u001b[0m \u001b[0;34m=\u001b[0m \u001b[0mutils\u001b[0m\u001b[0;34m.\u001b[0m\u001b[0mto_unicode\u001b[0m\u001b[0;34m(\u001b[0m\u001b[0mfin\u001b[0m\u001b[0;34m.\u001b[0m\u001b[0mreadline\u001b[0m\u001b[0;34m(\u001b[0m\u001b[0;34m)\u001b[0m\u001b[0;34m,\u001b[0m \u001b[0mencoding\u001b[0m\u001b[0;34m=\u001b[0m\u001b[0mencoding\u001b[0m\u001b[0;34m)\u001b[0m\u001b[0;34m\u001b[0m\u001b[0;34m\u001b[0m\u001b[0m\n\u001b[0m\u001b[1;32m   2059\u001b[0m             \u001b[0mvocab_size\u001b[0m\u001b[0;34m,\u001b[0m \u001b[0mvector_size\u001b[0m \u001b[0;34m=\u001b[0m \u001b[0;34m[\u001b[0m\u001b[0mint\u001b[0m\u001b[0;34m(\u001b[0m\u001b[0mx\u001b[0m\u001b[0;34m)\u001b[0m \u001b[0;32mfor\u001b[0m \u001b[0mx\u001b[0m \u001b[0;32min\u001b[0m \u001b[0mheader\u001b[0m\u001b[0;34m.\u001b[0m\u001b[0msplit\u001b[0m\u001b[0;34m(\u001b[0m\u001b[0;34m)\u001b[0m\u001b[0;34m]\u001b[0m  \u001b[0;31m# throws for invalid file format\u001b[0m\u001b[0;34m\u001b[0m\u001b[0;34m\u001b[0m\u001b[0m\n\u001b[1;32m   2060\u001b[0m         \u001b[0;32mif\u001b[0m \u001b[0mlimit\u001b[0m\u001b[0;34m:\u001b[0m\u001b[0;34m\u001b[0m\u001b[0;34m\u001b[0m\u001b[0m\n",
            "\u001b[0;32m/usr/lib/python3.10/gzip.py\u001b[0m in \u001b[0;36mreadline\u001b[0;34m(self, size)\u001b[0m\n\u001b[1;32m    397\u001b[0m     \u001b[0;32mdef\u001b[0m \u001b[0mreadline\u001b[0m\u001b[0;34m(\u001b[0m\u001b[0mself\u001b[0m\u001b[0;34m,\u001b[0m \u001b[0msize\u001b[0m\u001b[0;34m=\u001b[0m\u001b[0;34m-\u001b[0m\u001b[0;36m1\u001b[0m\u001b[0;34m)\u001b[0m\u001b[0;34m:\u001b[0m\u001b[0;34m\u001b[0m\u001b[0;34m\u001b[0m\u001b[0m\n\u001b[1;32m    398\u001b[0m         \u001b[0mself\u001b[0m\u001b[0;34m.\u001b[0m\u001b[0m_check_not_closed\u001b[0m\u001b[0;34m(\u001b[0m\u001b[0;34m)\u001b[0m\u001b[0;34m\u001b[0m\u001b[0;34m\u001b[0m\u001b[0m\n\u001b[0;32m--> 399\u001b[0;31m         \u001b[0;32mreturn\u001b[0m \u001b[0mself\u001b[0m\u001b[0;34m.\u001b[0m\u001b[0m_buffer\u001b[0m\u001b[0;34m.\u001b[0m\u001b[0mreadline\u001b[0m\u001b[0;34m(\u001b[0m\u001b[0msize\u001b[0m\u001b[0;34m)\u001b[0m\u001b[0;34m\u001b[0m\u001b[0;34m\u001b[0m\u001b[0m\n\u001b[0m\u001b[1;32m    400\u001b[0m \u001b[0;34m\u001b[0m\u001b[0m\n\u001b[1;32m    401\u001b[0m \u001b[0;34m\u001b[0m\u001b[0m\n",
            "\u001b[0;32m/usr/lib/python3.10/_compression.py\u001b[0m in \u001b[0;36mreadinto\u001b[0;34m(self, b)\u001b[0m\n\u001b[1;32m     66\u001b[0m     \u001b[0;32mdef\u001b[0m \u001b[0mreadinto\u001b[0m\u001b[0;34m(\u001b[0m\u001b[0mself\u001b[0m\u001b[0;34m,\u001b[0m \u001b[0mb\u001b[0m\u001b[0;34m)\u001b[0m\u001b[0;34m:\u001b[0m\u001b[0;34m\u001b[0m\u001b[0;34m\u001b[0m\u001b[0m\n\u001b[1;32m     67\u001b[0m         \u001b[0;32mwith\u001b[0m \u001b[0mmemoryview\u001b[0m\u001b[0;34m(\u001b[0m\u001b[0mb\u001b[0m\u001b[0;34m)\u001b[0m \u001b[0;32mas\u001b[0m \u001b[0mview\u001b[0m\u001b[0;34m,\u001b[0m \u001b[0mview\u001b[0m\u001b[0;34m.\u001b[0m\u001b[0mcast\u001b[0m\u001b[0;34m(\u001b[0m\u001b[0;34m\"B\"\u001b[0m\u001b[0;34m)\u001b[0m \u001b[0;32mas\u001b[0m \u001b[0mbyte_view\u001b[0m\u001b[0;34m:\u001b[0m\u001b[0;34m\u001b[0m\u001b[0;34m\u001b[0m\u001b[0m\n\u001b[0;32m---> 68\u001b[0;31m             \u001b[0mdata\u001b[0m \u001b[0;34m=\u001b[0m \u001b[0mself\u001b[0m\u001b[0;34m.\u001b[0m\u001b[0mread\u001b[0m\u001b[0;34m(\u001b[0m\u001b[0mlen\u001b[0m\u001b[0;34m(\u001b[0m\u001b[0mbyte_view\u001b[0m\u001b[0;34m)\u001b[0m\u001b[0;34m)\u001b[0m\u001b[0;34m\u001b[0m\u001b[0;34m\u001b[0m\u001b[0m\n\u001b[0m\u001b[1;32m     69\u001b[0m             \u001b[0mbyte_view\u001b[0m\u001b[0;34m[\u001b[0m\u001b[0;34m:\u001b[0m\u001b[0mlen\u001b[0m\u001b[0;34m(\u001b[0m\u001b[0mdata\u001b[0m\u001b[0;34m)\u001b[0m\u001b[0;34m]\u001b[0m \u001b[0;34m=\u001b[0m \u001b[0mdata\u001b[0m\u001b[0;34m\u001b[0m\u001b[0;34m\u001b[0m\u001b[0m\n\u001b[1;32m     70\u001b[0m         \u001b[0;32mreturn\u001b[0m \u001b[0mlen\u001b[0m\u001b[0;34m(\u001b[0m\u001b[0mdata\u001b[0m\u001b[0;34m)\u001b[0m\u001b[0;34m\u001b[0m\u001b[0;34m\u001b[0m\u001b[0m\n",
            "\u001b[0;32m/usr/lib/python3.10/gzip.py\u001b[0m in \u001b[0;36mread\u001b[0;34m(self, size)\u001b[0m\n\u001b[1;32m    486\u001b[0m                 \u001b[0;31m# jump to the next member, if there is one.\u001b[0m\u001b[0;34m\u001b[0m\u001b[0;34m\u001b[0m\u001b[0m\n\u001b[1;32m    487\u001b[0m                 \u001b[0mself\u001b[0m\u001b[0;34m.\u001b[0m\u001b[0m_init_read\u001b[0m\u001b[0;34m(\u001b[0m\u001b[0;34m)\u001b[0m\u001b[0;34m\u001b[0m\u001b[0;34m\u001b[0m\u001b[0m\n\u001b[0;32m--> 488\u001b[0;31m                 \u001b[0;32mif\u001b[0m \u001b[0;32mnot\u001b[0m \u001b[0mself\u001b[0m\u001b[0;34m.\u001b[0m\u001b[0m_read_gzip_header\u001b[0m\u001b[0;34m(\u001b[0m\u001b[0;34m)\u001b[0m\u001b[0;34m:\u001b[0m\u001b[0;34m\u001b[0m\u001b[0;34m\u001b[0m\u001b[0m\n\u001b[0m\u001b[1;32m    489\u001b[0m                     \u001b[0mself\u001b[0m\u001b[0;34m.\u001b[0m\u001b[0m_size\u001b[0m \u001b[0;34m=\u001b[0m \u001b[0mself\u001b[0m\u001b[0;34m.\u001b[0m\u001b[0m_pos\u001b[0m\u001b[0;34m\u001b[0m\u001b[0;34m\u001b[0m\u001b[0m\n\u001b[1;32m    490\u001b[0m                     \u001b[0;32mreturn\u001b[0m \u001b[0;34mb\"\"\u001b[0m\u001b[0;34m\u001b[0m\u001b[0;34m\u001b[0m\u001b[0m\n",
            "\u001b[0;32m/usr/lib/python3.10/gzip.py\u001b[0m in \u001b[0;36m_read_gzip_header\u001b[0;34m(self)\u001b[0m\n\u001b[1;32m    434\u001b[0m \u001b[0;34m\u001b[0m\u001b[0m\n\u001b[1;32m    435\u001b[0m         \u001b[0;32mif\u001b[0m \u001b[0mmagic\u001b[0m \u001b[0;34m!=\u001b[0m \u001b[0;34mb'\\037\\213'\u001b[0m\u001b[0;34m:\u001b[0m\u001b[0;34m\u001b[0m\u001b[0;34m\u001b[0m\u001b[0m\n\u001b[0;32m--> 436\u001b[0;31m             \u001b[0;32mraise\u001b[0m \u001b[0mBadGzipFile\u001b[0m\u001b[0;34m(\u001b[0m\u001b[0;34m'Not a gzipped file (%r)'\u001b[0m \u001b[0;34m%\u001b[0m \u001b[0mmagic\u001b[0m\u001b[0;34m)\u001b[0m\u001b[0;34m\u001b[0m\u001b[0;34m\u001b[0m\u001b[0m\n\u001b[0m\u001b[1;32m    437\u001b[0m \u001b[0;34m\u001b[0m\u001b[0m\n\u001b[1;32m    438\u001b[0m         (method, flag,\n",
            "\u001b[0;31mBadGzipFile\u001b[0m: Not a gzipped file (b've')"
          ]
        }
      ]
    },
    {
      "cell_type": "code",
      "source": [
        "#import tensorflow\n",
        "#word2vec_path = 'https://s3.amazonaws.com/dl4j-distribution/GoogleNews-vectors-negative300.bin.gz'\n",
        "#word2vec = models.KeyedVectors.load_word2vec_format(word2vec_path, binary=True)"
      ],
      "metadata": {
        "id": "pFHbtO7pGKlA"
      },
      "execution_count": 16,
      "outputs": []
    },
    {
      "cell_type": "code",
      "source": [],
      "metadata": {
        "colab": {
          "base_uri": "https://localhost:8080/",
          "height": 339
        },
        "id": "BLgBqvanLPT1",
        "outputId": "9cad0a5e-5d64-403e-c90b-e0fcb1b30b3b"
      },
      "execution_count": 17,
      "outputs": [
        {
          "output_type": "error",
          "ename": "FileNotFoundError",
          "evalue": "[Errno 2] No such file or directory: 'GoogleNews-vectors-negative300.bin'",
          "traceback": [
            "\u001b[0;31m---------------------------------------------------------------------------\u001b[0m",
            "\u001b[0;31mFileNotFoundError\u001b[0m                         Traceback (most recent call last)",
            "\u001b[0;32m<ipython-input-17-6023b78b1620>\u001b[0m in \u001b[0;36m<cell line: 3>\u001b[0;34m()\u001b[0m\n\u001b[1;32m      1\u001b[0m \u001b[0;32mfrom\u001b[0m \u001b[0mgensim\u001b[0m \u001b[0;32mimport\u001b[0m \u001b[0mmodels\u001b[0m\u001b[0;34m\u001b[0m\u001b[0;34m\u001b[0m\u001b[0m\n\u001b[1;32m      2\u001b[0m \u001b[0;34m\u001b[0m\u001b[0m\n\u001b[0;32m----> 3\u001b[0;31m w = models.KeyedVectors.load_word2vec_format(\n\u001b[0m\u001b[1;32m      4\u001b[0m     'GoogleNews-vectors-negative300.bin', binary=True)\n",
            "\u001b[0;32m/usr/local/lib/python3.10/dist-packages/gensim/models/keyedvectors.py\u001b[0m in \u001b[0;36mload_word2vec_format\u001b[0;34m(cls, fname, fvocab, binary, encoding, unicode_errors, limit, datatype, no_header)\u001b[0m\n\u001b[1;32m   1717\u001b[0m \u001b[0;34m\u001b[0m\u001b[0m\n\u001b[1;32m   1718\u001b[0m         \"\"\"\n\u001b[0;32m-> 1719\u001b[0;31m         return _load_word2vec_format(\n\u001b[0m\u001b[1;32m   1720\u001b[0m             \u001b[0mcls\u001b[0m\u001b[0;34m,\u001b[0m \u001b[0mfname\u001b[0m\u001b[0;34m,\u001b[0m \u001b[0mfvocab\u001b[0m\u001b[0;34m=\u001b[0m\u001b[0mfvocab\u001b[0m\u001b[0;34m,\u001b[0m \u001b[0mbinary\u001b[0m\u001b[0;34m=\u001b[0m\u001b[0mbinary\u001b[0m\u001b[0;34m,\u001b[0m \u001b[0mencoding\u001b[0m\u001b[0;34m=\u001b[0m\u001b[0mencoding\u001b[0m\u001b[0;34m,\u001b[0m \u001b[0municode_errors\u001b[0m\u001b[0;34m=\u001b[0m\u001b[0municode_errors\u001b[0m\u001b[0;34m,\u001b[0m\u001b[0;34m\u001b[0m\u001b[0;34m\u001b[0m\u001b[0m\n\u001b[1;32m   1721\u001b[0m             \u001b[0mlimit\u001b[0m\u001b[0;34m=\u001b[0m\u001b[0mlimit\u001b[0m\u001b[0;34m,\u001b[0m \u001b[0mdatatype\u001b[0m\u001b[0;34m=\u001b[0m\u001b[0mdatatype\u001b[0m\u001b[0;34m,\u001b[0m \u001b[0mno_header\u001b[0m\u001b[0;34m=\u001b[0m\u001b[0mno_header\u001b[0m\u001b[0;34m,\u001b[0m\u001b[0;34m\u001b[0m\u001b[0;34m\u001b[0m\u001b[0m\n",
            "\u001b[0;32m/usr/local/lib/python3.10/dist-packages/gensim/models/keyedvectors.py\u001b[0m in \u001b[0;36m_load_word2vec_format\u001b[0;34m(cls, fname, fvocab, binary, encoding, unicode_errors, limit, datatype, no_header, binary_chunk_size)\u001b[0m\n\u001b[1;32m   2046\u001b[0m \u001b[0;34m\u001b[0m\u001b[0m\n\u001b[1;32m   2047\u001b[0m     \u001b[0mlogger\u001b[0m\u001b[0;34m.\u001b[0m\u001b[0minfo\u001b[0m\u001b[0;34m(\u001b[0m\u001b[0;34m\"loading projection weights from %s\"\u001b[0m\u001b[0;34m,\u001b[0m \u001b[0mfname\u001b[0m\u001b[0;34m)\u001b[0m\u001b[0;34m\u001b[0m\u001b[0;34m\u001b[0m\u001b[0m\n\u001b[0;32m-> 2048\u001b[0;31m     \u001b[0;32mwith\u001b[0m \u001b[0mutils\u001b[0m\u001b[0;34m.\u001b[0m\u001b[0mopen\u001b[0m\u001b[0;34m(\u001b[0m\u001b[0mfname\u001b[0m\u001b[0;34m,\u001b[0m \u001b[0;34m'rb'\u001b[0m\u001b[0;34m)\u001b[0m \u001b[0;32mas\u001b[0m \u001b[0mfin\u001b[0m\u001b[0;34m:\u001b[0m\u001b[0;34m\u001b[0m\u001b[0;34m\u001b[0m\u001b[0m\n\u001b[0m\u001b[1;32m   2049\u001b[0m         \u001b[0;32mif\u001b[0m \u001b[0mno_header\u001b[0m\u001b[0;34m:\u001b[0m\u001b[0;34m\u001b[0m\u001b[0;34m\u001b[0m\u001b[0m\n\u001b[1;32m   2050\u001b[0m             \u001b[0;31m# deduce both vocab_size & vector_size from 1st pass over file\u001b[0m\u001b[0;34m\u001b[0m\u001b[0;34m\u001b[0m\u001b[0m\n",
            "\u001b[0;32m/usr/local/lib/python3.10/dist-packages/smart_open/smart_open_lib.py\u001b[0m in \u001b[0;36mopen\u001b[0;34m(uri, mode, buffering, encoding, errors, newline, closefd, opener, compression, transport_params)\u001b[0m\n\u001b[1;32m    175\u001b[0m         \u001b[0mtransport_params\u001b[0m \u001b[0;34m=\u001b[0m \u001b[0;34m{\u001b[0m\u001b[0;34m}\u001b[0m\u001b[0;34m\u001b[0m\u001b[0;34m\u001b[0m\u001b[0m\n\u001b[1;32m    176\u001b[0m \u001b[0;34m\u001b[0m\u001b[0m\n\u001b[0;32m--> 177\u001b[0;31m     fobj = _shortcut_open(\n\u001b[0m\u001b[1;32m    178\u001b[0m         \u001b[0muri\u001b[0m\u001b[0;34m,\u001b[0m\u001b[0;34m\u001b[0m\u001b[0;34m\u001b[0m\u001b[0m\n\u001b[1;32m    179\u001b[0m         \u001b[0mmode\u001b[0m\u001b[0;34m,\u001b[0m\u001b[0;34m\u001b[0m\u001b[0;34m\u001b[0m\u001b[0m\n",
            "\u001b[0;32m/usr/local/lib/python3.10/dist-packages/smart_open/smart_open_lib.py\u001b[0m in \u001b[0;36m_shortcut_open\u001b[0;34m(uri, mode, compression, buffering, encoding, errors, newline)\u001b[0m\n\u001b[1;32m    361\u001b[0m         \u001b[0mopen_kwargs\u001b[0m\u001b[0;34m[\u001b[0m\u001b[0;34m'errors'\u001b[0m\u001b[0;34m]\u001b[0m \u001b[0;34m=\u001b[0m \u001b[0merrors\u001b[0m\u001b[0;34m\u001b[0m\u001b[0;34m\u001b[0m\u001b[0m\n\u001b[1;32m    362\u001b[0m \u001b[0;34m\u001b[0m\u001b[0m\n\u001b[0;32m--> 363\u001b[0;31m     \u001b[0;32mreturn\u001b[0m \u001b[0m_builtin_open\u001b[0m\u001b[0;34m(\u001b[0m\u001b[0mlocal_path\u001b[0m\u001b[0;34m,\u001b[0m \u001b[0mmode\u001b[0m\u001b[0;34m,\u001b[0m \u001b[0mbuffering\u001b[0m\u001b[0;34m=\u001b[0m\u001b[0mbuffering\u001b[0m\u001b[0;34m,\u001b[0m \u001b[0;34m**\u001b[0m\u001b[0mopen_kwargs\u001b[0m\u001b[0;34m)\u001b[0m\u001b[0;34m\u001b[0m\u001b[0;34m\u001b[0m\u001b[0m\n\u001b[0m\u001b[1;32m    364\u001b[0m \u001b[0;34m\u001b[0m\u001b[0m\n\u001b[1;32m    365\u001b[0m \u001b[0;34m\u001b[0m\u001b[0m\n",
            "\u001b[0;31mFileNotFoundError\u001b[0m: [Errno 2] No such file or directory: 'GoogleNews-vectors-negative300.bin'"
          ]
        }
      ]
    },
    {
      "cell_type": "code",
      "source": [
        "!wget -c \"https://github.com/eyaler/word2vec-slim/blob/master/GoogleNews-vectors-negative300-SLIM.bin.gz\""
      ],
      "metadata": {
        "colab": {
          "base_uri": "https://localhost:8080/"
        },
        "id": "E3N30puELv0y",
        "outputId": "3fa30732-7cfb-4e59-ecd0-ebcc887b8a3d"
      },
      "execution_count": 18,
      "outputs": [
        {
          "output_type": "stream",
          "name": "stdout",
          "text": [
            "--2024-04-26 11:35:55--  https://github.com/eyaler/word2vec-slim/blob/master/GoogleNews-vectors-negative300-SLIM.bin.gz\n",
            "Resolving github.com (github.com)... 140.82.112.4\n",
            "Connecting to github.com (github.com)|140.82.112.4|:443... connected.\n",
            "HTTP request sent, awaiting response... 200 OK\n",
            "Length: unspecified [text/html]\n",
            "Saving to: ‘GoogleNews-vectors-negative300-SLIM.bin.gz’\n",
            "\n",
            "GoogleNews-vectors-     [ <=>                ] 270.79K  --.-KB/s    in 0.1s    \n",
            "\n",
            "2024-04-26 11:35:56 (2.61 MB/s) - ‘GoogleNews-vectors-negative300-SLIM.bin.gz’ saved [277287]\n",
            "\n"
          ]
        }
      ]
    },
    {
      "cell_type": "code",
      "source": [
        "model = KeyedVectors.load_word2vec_format(\"/content/drive/MyDrive/GoogleNews-vectors-negative300-SLIM.bin.gz\",binary=True,limit=500000)"
      ],
      "metadata": {
        "id": "s2OmuQNKMMjp"
      },
      "execution_count": 4,
      "outputs": []
    },
    {
      "cell_type": "code",
      "source": [
        "model"
      ],
      "metadata": {
        "colab": {
          "base_uri": "https://localhost:8080/"
        },
        "id": "xoTwSGCnNJHw",
        "outputId": "e121786c-15c4-49c1-9b60-701c7e358a61"
      },
      "execution_count": 5,
      "outputs": [
        {
          "output_type": "execute_result",
          "data": {
            "text/plain": [
              "<gensim.models.keyedvectors.KeyedVectors at 0x7a2656f6ebc0>"
            ]
          },
          "metadata": {},
          "execution_count": 5
        }
      ]
    },
    {
      "cell_type": "code",
      "source": [
        "#vector representaion of the word cricket in 300 dimensions\n",
        "model['cricket']"
      ],
      "metadata": {
        "colab": {
          "base_uri": "https://localhost:8080/"
        },
        "id": "NtQdcRALPGT1",
        "outputId": "d399571c-c29b-41ca-b4f1-2f764b66cdb6"
      },
      "execution_count": 6,
      "outputs": [
        {
          "output_type": "execute_result",
          "data": {
            "text/plain": [
              "array([-9.99815464e-02, -3.31055932e-02,  7.76452497e-02,  2.22033504e-02,\n",
              "        8.70849937e-03, -8.70849937e-03,  3.66953574e-02, -7.44543448e-02,\n",
              "        2.57598748e-03, -2.92499214e-02,  6.75407276e-02, -1.64863199e-01,\n",
              "        1.36942817e-02,  8.13679621e-02,  2.60590203e-02,  3.80248986e-02,\n",
              "       -1.47579154e-02,  7.92406946e-02,  7.76452497e-02,  4.12157997e-02,\n",
              "       -7.87088796e-02, -9.43974778e-03,  4.95254342e-03, -1.06895171e-01,\n",
              "        6.70089126e-02,  6.86043650e-02, -2.68567465e-02,  8.77497643e-02,\n",
              "        1.22317851e-01, -3.72271724e-02, -6.38180077e-02,  1.12346290e-02,\n",
              "       -5.87657504e-02,  4.62680571e-02,  6.98009506e-03,  4.08834126e-03,\n",
              "       -1.02374721e-02,  1.89459720e-03,  1.09022439e-01,  5.71703017e-02,\n",
              "        3.20419595e-02, -1.14340605e-02,  6.38180077e-02,  5.53089418e-02,\n",
              "       -5.07884994e-02, -6.70089126e-02,  8.50906819e-02, -7.07316250e-02,\n",
              "       -2.91169677e-02,  2.83192415e-02, -4.89271432e-02,  1.55556398e-02,\n",
              "       -2.01924169e-03, -1.52232544e-02,  2.07408536e-02, -1.12745151e-01,\n",
              "       -9.94497314e-02, -9.14724842e-02, -4.20135222e-02, -6.51475489e-02,\n",
              "       -1.01576999e-01,  6.19067927e-04, -9.57270190e-02,  2.35328916e-02,\n",
              "        3.45680900e-02,  6.03612028e-02, -2.68567465e-02,  2.96487845e-02,\n",
              "        9.94497314e-02, -1.54226860e-02,  1.54226860e-02, -2.97817383e-02,\n",
              "       -4.54703309e-02, -1.23647396e-02, -5.45112193e-02, -3.33715007e-02,\n",
              "        3.58976312e-02, -3.58976312e-02,  2.80533340e-02, -9.30679291e-02,\n",
              "       -4.28112485e-02,  5.55748492e-02,  1.19658774e-02,  6.64770976e-02,\n",
              "       -8.70849937e-03,  8.72179493e-02, -1.20323543e-02,  2.95158308e-02,\n",
              "       -1.35613270e-02, -2.59260670e-03,  6.70089126e-02, -1.52232544e-02,\n",
              "        1.11016752e-02, -4.85282810e-03, -8.04372877e-03,  4.49385159e-02,\n",
              "        1.37208730e-01, -7.65816122e-02,  2.67237928e-02,  4.91930498e-03,\n",
              "       -4.99907732e-02,  6.91361800e-02,  6.14248365e-02,  4.45396546e-03,\n",
              "        4.94589582e-02,  3.77589911e-02,  9.09406617e-02,  3.80248986e-02,\n",
              "        3.97200650e-03, -7.87753612e-03, -2.28681210e-02,  4.09498885e-02,\n",
              "        4.57362421e-02,  6.22225590e-02,  9.78542864e-02,  3.33715007e-02,\n",
              "       -8.93452168e-02, -4.25453410e-02,  7.55179822e-02,  4.81958920e-03,\n",
              "       -3.98862548e-02, -1.22982624e-03, -1.21653080e-02,  4.78635095e-02,\n",
              "       -1.02108814e-01,  3.17760520e-02, -3.80248986e-02,  6.96679950e-02,\n",
              "       -5.34475856e-02, -7.01333350e-03, -1.47579154e-02, -6.84714084e-03,\n",
              "       -5.26498593e-02, -8.64202250e-03, -2.37987991e-02, -3.61635387e-02,\n",
              "       -5.78350713e-03,  1.18063323e-01, -1.41596207e-02,  9.43974778e-03,\n",
              "        2.18044873e-02,  9.30679310e-03,  5.42453080e-02, -6.51475508e-03,\n",
              "       -6.46157339e-02,  5.26498593e-02,  1.99431274e-02, -7.81770647e-02,\n",
              "        3.40362713e-02,  2.30010748e-02,  3.56317237e-02, -5.98293841e-02,\n",
              "       -4.38748822e-02, -7.17952624e-02, -1.48908690e-01, -8.08361471e-02,\n",
              "        9.37326998e-03, -7.81770647e-02, -5.26498593e-02, -4.38748822e-02,\n",
              "       -1.04767904e-01, -5.84998429e-02, -1.69516588e-03, -3.48339975e-02,\n",
              "       -2.72556096e-02, -1.69117734e-01,  1.03172451e-01, -1.24976940e-01,\n",
              "        3.93544398e-02, -2.48624329e-02, -8.40270445e-02,  6.08930178e-02,\n",
              "        2.14056242e-02, -5.90316616e-02,  2.39317548e-02, -4.54703309e-02,\n",
              "        3.12442333e-03, -6.91361800e-02, -1.70181356e-02,  1.64530810e-03,\n",
              "        4.25453410e-02,  1.19126953e-01, -6.08930178e-02, -6.32861927e-02,\n",
              "        7.49861598e-02,  6.51475489e-02,  1.22317858e-02, -2.04749443e-02,\n",
              "        1.56354129e-01, -7.11304927e-03, -3.31055932e-02,  6.64770976e-02,\n",
              "       -9.20042992e-02,  2.33999379e-02, -2.10067611e-02,  1.32289417e-02,\n",
              "        3.90885323e-02,  1.15936056e-01, -1.16999689e-02, -2.95158308e-02,\n",
              "        3.25737745e-02, -5.21180406e-02, -5.79680279e-02, -7.81770647e-02,\n",
              "       -3.12442351e-02, -5.55748492e-02, -5.61731448e-03, -6.91361800e-02,\n",
              "        2.24692579e-02, -1.08357668e-02, -4.28112485e-02,  3.66953574e-02,\n",
              "        5.66384830e-02, -4.86612320e-02, -5.45112183e-03, -2.27351654e-02,\n",
              "       -3.28396857e-02,  1.16999689e-02, -5.29157668e-02, -3.61635387e-02,\n",
              "       -5.91646135e-03, -6.40839189e-02, -9.89179164e-02,  4.12157997e-02,\n",
              "        2.53942497e-02,  4.44067009e-02,  2.77874246e-02, -1.16467871e-01,\n",
              "        7.71134272e-02,  7.47867307e-05, -8.72179493e-02,  4.58691968e-03,\n",
              "        1.10617884e-01, -1.42925754e-02,  2.15385780e-02, -3.85567136e-02,\n",
              "        1.43590525e-01, -3.45680900e-02,  1.29231468e-01, -1.80817693e-02,\n",
              "        9.30679291e-02, -4.86612320e-02,  1.00513369e-01, -5.58407605e-02,\n",
              "        1.58714061e-03, -5.02566844e-02, -2.41976622e-02, -4.94589582e-02,\n",
              "       -1.30959880e-02,  1.19658768e-01,  5.79680279e-02, -8.37611407e-03,\n",
              "        2.53942497e-02,  6.54134601e-02,  6.51475489e-02,  6.86043650e-02,\n",
              "       -5.41788340e-03,  3.39033194e-02, -1.28965564e-02, -5.81674557e-03,\n",
              "        8.50906782e-03,  8.30963720e-03,  7.60497972e-02,  2.47294791e-02,\n",
              "       -5.50430343e-02, -5.98293869e-03, -7.17952624e-02,  2.39317548e-02,\n",
              "       -2.92499214e-02, -6.78066388e-02, -3.32385465e-03,  4.73316908e-02,\n",
              "       -2.69897003e-02,  1.98101737e-02,  7.07316250e-02, -1.25508755e-01,\n",
              "        9.78542864e-02, -6.14248365e-02,  5.11873607e-03, -5.98293841e-02,\n",
              "       -5.69043942e-02, -4.12157997e-02,  2.35328916e-02,  3.04132700e-03,\n",
              "        1.88794956e-02, -8.14344361e-03,  3.90885323e-02,  5.15862256e-02,\n",
              "       -3.61635387e-02,  1.28699660e-01, -3.82908061e-02, -6.88037928e-03,\n",
              "        5.21180406e-02, -7.17952624e-02, -3.80248986e-02,  2.97817383e-02,\n",
              "        5.38464449e-03,  6.78066388e-02, -3.88226248e-02,  1.13011058e-02],\n",
              "      dtype=float32)"
            ]
          },
          "metadata": {},
          "execution_count": 6
        }
      ]
    },
    {
      "cell_type": "code",
      "source": [
        "#length of the vector\n",
        "len(model['cricket'])"
      ],
      "metadata": {
        "colab": {
          "base_uri": "https://localhost:8080/"
        },
        "id": "ULO8yZaqPZVB",
        "outputId": "9910debd-8e71-4a84-c900-e494a60dd59d"
      },
      "execution_count": 7,
      "outputs": [
        {
          "output_type": "execute_result",
          "data": {
            "text/plain": [
              "300"
            ]
          },
          "metadata": {},
          "execution_count": 7
        }
      ]
    },
    {
      "cell_type": "code",
      "source": [
        "#vector representaion of the word space in 300 dimensions\n",
        "model['space']"
      ],
      "metadata": {
        "colab": {
          "base_uri": "https://localhost:8080/"
        },
        "id": "a10h1oZ0PjIH",
        "outputId": "73af5dfa-4ad9-427f-dd92-be2de3dc5a7d"
      },
      "execution_count": 8,
      "outputs": [
        {
          "output_type": "execute_result",
          "data": {
            "text/plain": [
              "array([-0.0465553 ,  0.03052807,  0.02175125, -0.02556726, -0.0450289 ,\n",
              "       -0.07708337,  0.02881086, -0.01216353,  0.01535943, -0.05380572,\n",
              "       -0.01888924, -0.02556726, -0.04808171, -0.05838493, -0.01745824,\n",
              "       -0.02537646,  0.02556726,  0.0454105 ,  0.06181934,  0.03587048,\n",
              "       -0.00550936, -0.05838493, -0.04789091, -0.00720272, -0.03968649,\n",
              "        0.11371705, -0.02070185, -0.02337305,  0.00658261, -0.09845302,\n",
              "       -0.10226902, -0.00767972,  0.01431003, -0.00030409, -0.02594886,\n",
              "       -0.1366131 ,  0.01459623,  0.00977852,  0.00261158, -0.02804766,\n",
              "       -0.04121289, -0.04044969,  0.07479376,  0.16790436, -0.02766606,\n",
              "       -0.02194205, -0.03548888,  0.07937297,  0.02652126, -0.05609532,\n",
              "        0.03491648, -0.03758768, -0.07708337, -0.06639855, -0.07097775,\n",
              "       -0.05991133,  0.05380572, -0.03300847,  0.09425541, -0.00829982,\n",
              "        0.03281767, -0.05304252, -0.02280065, -0.11219065, -0.0904394 ,\n",
              "        0.01469163, -0.00629641, -0.03052807, -0.04350249,  0.07174096,\n",
              "        0.01178193, -0.01354683,  0.07822818, -0.03835088, -0.12821788,\n",
              "       -0.04998971,  0.00207495,  0.03739688, -0.10226902,  0.06410894,\n",
              "        0.04083129,  0.0904394 ,  0.08166258, -0.04235769, -0.02184665,\n",
              "       -0.05609532,  0.02785686,  0.05838493,  0.13890271,  0.05800333,\n",
              "        0.05685852, -0.08433378,  0.03090967, -0.10684823,  0.08051778,\n",
              "       -0.03415328, -0.05342412,  0.09387381, -0.03186367,  0.00414991,\n",
              "       -0.00132964, -0.0457921 , -0.02804766, -0.02194205,  0.02442245,\n",
              "        0.04922651,  0.01035092,  0.02613966, -0.14042911, -0.01707664,\n",
              "       -0.07593857,  0.02480405,  0.01216353,  0.06716175, -0.01869844,\n",
              "        0.00218228,  0.03835088, -0.02213285,  0.10379543,  0.00479386,\n",
              "       -0.12287547, -0.10074262, -0.03110047,  0.04121289, -0.02318225,\n",
              "       -0.06716175, -0.02881086,  0.08128098,  0.12287547, -0.01927084,\n",
              "        0.06601694, -0.02747526,  0.02051105,  0.04884491,  0.07860977,\n",
              "        0.0473185 , -0.03339007,  0.01698124, -0.0008586 , -0.00131772,\n",
              "        0.06372734, -0.06754335,  0.00019378, -0.00317206, -0.05609532,\n",
              "       -0.12287547, -0.05991133,  0.02499486, -0.05533212,  0.02194205,\n",
              "        0.05991133,  0.05724012,  0.04846331,  0.04064049,  0.07288576,\n",
              "        0.00341056,  0.03415328, -0.07250416, -0.08814979, -0.06754335,\n",
              "       -0.01774444,  0.0436933 ,  0.00744122, -0.06410894,  0.07860977,\n",
              "        0.00343441,  0.08433378,  0.10150582, -0.08967619, -0.05456892,\n",
              "       -0.08242578,  0.00477001,  0.01831684,  0.01202043,  0.03701528,\n",
              "       -0.02518566, -0.06563535, -0.07975458, -0.06296414, -0.00231346,\n",
              "       -0.05266092,  0.01373763, -0.06563535, -0.02995567,  0.10761144,\n",
              "       -0.10913784,  0.12669148,  0.04140369,  0.10226902, -0.01440543,\n",
              "       -0.01993864, -0.06754335,  0.02136965,  0.02404085, -0.10837464,\n",
              "        0.05533212,  0.05266092,  0.02089265, -0.02633046,  0.00262351,\n",
              "       -0.05456892, -0.02098805, -0.03415328, -0.05304252, -0.03224527,\n",
              "       -0.08471539, -0.01116182, -0.03339007, -0.05838493,  0.01354683,\n",
              "       -0.04827251,  0.03396247, -0.07899138,  0.0912026 , -0.05189772,\n",
              "        0.06678015,  0.06029293,  0.11829626, -0.05609532,  0.00958772,\n",
              "        0.02671206,  0.02165585,  0.00591481,  0.00163373, -0.06906975,\n",
              "        0.07708337, -0.0452197 , -0.05724012,  0.02385005, -0.03816009,\n",
              "       -0.06525374, -0.09845302,  0.04140369, -0.04102209,  0.08433378,\n",
              "       -0.00534241, -0.07174096, -0.05495052, -0.03224527, -0.08471539,\n",
              "        0.07326736, -0.00901532,  0.03548888, -0.08280738, -0.00677342,\n",
              "       -0.00973082, -0.00201533, -0.02594886, -0.01898464, -0.01659964,\n",
              "       -0.02089265, -0.05991133, -0.00434071,  0.11905946,  0.0436933 ,\n",
              "       -0.0473185 ,  0.07364896, -0.00234923, -0.07555696,  0.03129127,\n",
              "       -0.06029293, -0.04312089, -0.06067453,  0.06296414,  0.07174096,\n",
              "        0.10455863,  0.04178529,  0.04273929, -0.03682448,  0.00033837,\n",
              "       -0.06792495, -0.01431003,  0.08700499,  0.00279046, -0.00624871,\n",
              "       -0.02499486, -0.07860977, -0.01869844, -0.00299318, -0.06945135,\n",
              "       -0.05952973,  0.12440187,  0.06868815,  0.01392843,  0.03186367,\n",
              "        0.08089938,  0.07212256, -0.01168653,  0.00239693,  0.09921622,\n",
              "       -0.09845302,  0.03300847, -0.02766606, -0.03816009,  0.0446473 ,\n",
              "       -0.02690286,  0.08547859, -0.03243607, -0.05495052, -0.02881086],\n",
              "      dtype=float32)"
            ]
          },
          "metadata": {},
          "execution_count": 8
        }
      ]
    },
    {
      "cell_type": "code",
      "source": [
        "#Most similar words\n",
        "model.most_similar(\"man\")"
      ],
      "metadata": {
        "colab": {
          "base_uri": "https://localhost:8080/"
        },
        "id": "GCikvWhAPqf3",
        "outputId": "d951088e-ba3b-4c03-d40f-fedd4774771a"
      },
      "execution_count": 9,
      "outputs": [
        {
          "output_type": "execute_result",
          "data": {
            "text/plain": [
              "[('woman', 0.7664012908935547),\n",
              " ('boy', 0.6824870109558105),\n",
              " ('teenager', 0.6586930155754089),\n",
              " ('girl', 0.5921714305877686),\n",
              " ('robber', 0.5585119128227234),\n",
              " ('men', 0.5489763021469116),\n",
              " ('guy', 0.5420035719871521),\n",
              " ('person', 0.5342026352882385),\n",
              " ('gentleman', 0.5337990522384644),\n",
              " ('motorcyclist', 0.5336882472038269)]"
            ]
          },
          "metadata": {},
          "execution_count": 9
        }
      ]
    },
    {
      "cell_type": "code",
      "source": [
        "model.most_similar(\"train\")"
      ],
      "metadata": {
        "colab": {
          "base_uri": "https://localhost:8080/"
        },
        "id": "XUVFdNGMQC5S",
        "outputId": "a73acfa5-a460-411a-cb05-644c48368758"
      },
      "execution_count": 10,
      "outputs": [
        {
          "output_type": "execute_result",
          "data": {
            "text/plain": [
              "[('trains', 0.8081232905387878),\n",
              " ('Train', 0.6729270219802856),\n",
              " ('locomotive', 0.6395583152770996),\n",
              " ('railway', 0.6071822047233582),\n",
              " ('bus', 0.6067740321159363),\n",
              " ('Trains', 0.5963783264160156),\n",
              " ('rail', 0.5885170102119446),\n",
              " ('tram', 0.5750932693481445),\n",
              " ('carriages', 0.5699436664581299),\n",
              " ('trolley', 0.5546036958694458)]"
            ]
          },
          "metadata": {},
          "execution_count": 10
        }
      ]
    },
    {
      "cell_type": "code",
      "source": [
        "model.most_similar(\"space\")"
      ],
      "metadata": {
        "colab": {
          "base_uri": "https://localhost:8080/"
        },
        "id": "94SBKM8UQGQw",
        "outputId": "01b59fe4-7d27-4d78-8904-6c8a896010eb"
      },
      "execution_count": 11,
      "outputs": [
        {
          "output_type": "execute_result",
          "data": {
            "text/plain": [
              "[('spaces', 0.6570690870285034),\n",
              " ('Space', 0.5478203296661377),\n",
              " ('circumlunar', 0.4844437539577484),\n",
              " ('workspace', 0.46954283118247986),\n",
              " ('redock', 0.4576822519302368),\n",
              " ('lettable', 0.4360417425632477),\n",
              " ('shuttle', 0.4224233031272888),\n",
              " ('Orbiters', 0.4218308925628662),\n",
              " ('elbowroom', 0.4213905334472656),\n",
              " ('cramped', 0.42121225595474243)]"
            ]
          },
          "metadata": {},
          "execution_count": 11
        }
      ]
    },
    {
      "cell_type": "code",
      "source": [
        "#checking similarity between two\n",
        "model.similarity('man','woman')"
      ],
      "metadata": {
        "colab": {
          "base_uri": "https://localhost:8080/"
        },
        "id": "a9jq8BjwQJg7",
        "outputId": "83c622d6-094c-43fa-ac6b-e8abac37d5e7"
      },
      "execution_count": 13,
      "outputs": [
        {
          "output_type": "execute_result",
          "data": {
            "text/plain": [
              "0.76640123"
            ]
          },
          "metadata": {},
          "execution_count": 13
        }
      ]
    },
    {
      "cell_type": "code",
      "source": [
        "model.similarity('car','apple')"
      ],
      "metadata": {
        "colab": {
          "base_uri": "https://localhost:8080/"
        },
        "id": "sbFW1WjtQL7w",
        "outputId": "6ed32b5f-6a4c-4ff6-f8c2-ed2033af4a68"
      },
      "execution_count": 14,
      "outputs": [
        {
          "output_type": "execute_result",
          "data": {
            "text/plain": [
              "0.12830707"
            ]
          },
          "metadata": {},
          "execution_count": 14
        }
      ]
    },
    {
      "cell_type": "code",
      "source": [
        "model.similarity('pen','pencil')"
      ],
      "metadata": {
        "colab": {
          "base_uri": "https://localhost:8080/"
        },
        "id": "m0v1fs_HQ63c",
        "outputId": "e58f127d-5b36-4985-8d55-41618f2e7740"
      },
      "execution_count": 16,
      "outputs": [
        {
          "output_type": "execute_result",
          "data": {
            "text/plain": [
              "0.5767994"
            ]
          },
          "metadata": {},
          "execution_count": 16
        }
      ]
    },
    {
      "cell_type": "code",
      "source": [
        "#to check whether matching or not\n",
        "model.doesnt_match([\"Pen\",\"Pencil\",\"Apple\",\"notebook\"])"
      ],
      "metadata": {
        "colab": {
          "base_uri": "https://localhost:8080/",
          "height": 36
        },
        "id": "JA-VR4JbQ_89",
        "outputId": "a318b48d-d1f7-441a-dd21-7c1fc0607592"
      },
      "execution_count": 17,
      "outputs": [
        {
          "output_type": "execute_result",
          "data": {
            "text/plain": [
              "'Apple'"
            ],
            "application/vnd.google.colaboratory.intrinsic+json": {
              "type": "string"
            }
          },
          "metadata": {},
          "execution_count": 17
        }
      ]
    },
    {
      "cell_type": "code",
      "source": [
        "model['king']"
      ],
      "metadata": {
        "colab": {
          "base_uri": "https://localhost:8080/"
        },
        "id": "0DgmQyWvRkd8",
        "outputId": "c591422f-97f3-49aa-f58c-9e78482d50de"
      },
      "execution_count": 18,
      "outputs": [
        {
          "output_type": "execute_result",
          "data": {
            "text/plain": [
              "array([ 4.34063822e-02,  1.02627501e-02,  2.96526169e-03,  4.81171533e-02,\n",
              "       -8.83269403e-03, -1.24498932e-02,  3.85273732e-02, -6.83061704e-02,\n",
              "        1.76653881e-02,  1.25171900e-01, -8.34479332e-02, -1.04309916e-01,\n",
              "       -6.12400137e-02, -8.58033169e-03, -5.78751788e-02, -5.85481450e-02,\n",
              "        1.19451676e-02,  1.79808424e-03,  1.59829706e-02,  4.44158353e-02,\n",
              "        4.71077040e-02,  3.88638563e-02,  2.05255002e-02,  4.71077040e-02,\n",
              "        3.48260514e-02, -6.09035306e-02, -8.68127644e-02,  2.06096210e-02,\n",
              "        1.17769256e-01, -1.07254144e-02,  3.60037461e-02,  2.12825872e-02,\n",
              "        4.29016575e-02,  1.37958273e-01, -1.11039586e-01,  2.89375894e-02,\n",
              "        1.34593435e-02,  2.01890152e-03,  2.42268182e-02,  5.95575981e-02,\n",
              "        4.77806702e-02, -7.97466114e-02,  9.75802392e-02,  4.91266064e-02,\n",
              "        1.17769256e-01, -8.24384764e-03, -3.78544033e-02,  1.14404419e-02,\n",
              "       -1.88430808e-02,  5.27858641e-03, -5.58562763e-02,  5.45103438e-02,\n",
              "       -8.95046368e-02,  6.93997415e-03, -5.61927594e-02,  4.67922509e-04,\n",
              "       -4.97995727e-02, -1.96001697e-02,  1.48052778e-02, -8.49621091e-03,\n",
              "        6.39318824e-02,  1.54109493e-01,  3.30174528e-03,  4.54252847e-02,\n",
              "        3.39848436e-02, -6.39318824e-02, -3.44895683e-02, -4.60982509e-02,\n",
              "       -4.30698991e-02,  9.75802392e-02,  4.23969328e-02,  1.83383562e-02,\n",
              "       -6.12400137e-02,  2.96105556e-02, -7.52882054e-03,  7.06615532e-03,\n",
              "       -4.81171533e-02,  8.66445247e-03,  4.77806702e-02, -3.63402292e-02,\n",
              "        4.77806702e-02,  3.06200068e-02, -2.59092376e-02, -7.36057851e-03,\n",
              "        5.95575981e-02,  1.59829706e-02, -9.15235355e-02,  3.07041290e-03,\n",
              "        5.14819883e-02,  1.30387396e-02,  8.21020007e-02, -4.29016575e-02,\n",
              "       -7.50358403e-02, -6.25859499e-02,  1.02627501e-02,  1.96842905e-02,\n",
              "       -9.96832643e-03,  4.29016585e-03,  3.33118774e-02, -7.97466114e-02,\n",
              "        2.00207736e-02,  2.30491254e-02,  2.43950598e-02, -1.06328815e-01,\n",
              "       -7.40263909e-02,  5.01360558e-02, -1.47379816e-01, -3.23865470e-03,\n",
              "        5.31644076e-02, -2.64139622e-02,  9.95991454e-02,  9.55613405e-02,\n",
              "       -1.67584600e-04, -4.71077040e-02,  1.11712553e-01, -8.47938657e-02,\n",
              "       -1.04625372e-03, -7.30169415e-02,  4.30698991e-02,  9.28694755e-02,\n",
              "        7.03250691e-02,  2.84328647e-02, -6.93156198e-02, -5.51833101e-02,\n",
              "       -1.30387396e-02, -4.13874835e-02,  3.97050641e-02, -1.41323106e-02,\n",
              "       -1.36275860e-02, -3.09564900e-02,  2.18714331e-03,  6.99885860e-02,\n",
              "        6.42683655e-02,  9.42154080e-02,  2.17031911e-02,  4.87901196e-02,\n",
              "       -3.38166021e-02,  4.77806702e-02,  6.29224330e-02,  5.98940812e-02,\n",
              "        5.98940812e-02, -8.17655101e-02,  6.15764968e-02,  2.18714345e-02,\n",
              "        8.14290270e-02, -7.20074922e-02,  3.01152822e-02, -5.72022125e-02,\n",
              "       -2.72551719e-02,  8.37844163e-02, -3.06200068e-02,  4.37428690e-02,\n",
              "       -7.46993572e-02, -5.98940812e-02, -1.23825960e-01, -2.84328647e-02,\n",
              "       -2.23761592e-02,  1.74971465e-02,  4.67712209e-02, -2.57409941e-02,\n",
              "       -5.65292425e-02,  3.97471245e-03,  1.53436527e-01, -7.43628740e-02,\n",
              "       -3.83591317e-02, -6.62872717e-02,  5.88846281e-02, -4.30698991e-02,\n",
              "        9.14814766e-04,  6.62872717e-02, -6.02305643e-02,  4.81171533e-02,\n",
              "        1.00945078e-01,  3.90320979e-02,  2.05255002e-02, -2.20396761e-02,\n",
              "        3.43213268e-02, -9.37948003e-03,  6.77173259e-03,  1.47211570e-02,\n",
              "       -8.47938657e-02,  2.20396761e-02, -7.77277127e-02, -5.82116619e-02,\n",
              "        9.98935662e-04,  2.82646213e-02,  1.17769256e-01,  1.48893995e-02,\n",
              "        4.57617678e-02,  4.91266064e-02,  2.62457207e-02,  2.06096210e-02,\n",
              "       -4.10510004e-02,  9.46360116e-04, -2.17031911e-02, -9.37948003e-03,\n",
              "       -1.66138774e-03, -2.82646213e-02, -8.58033169e-03, -1.37958273e-01,\n",
              "       -3.68449539e-02,  1.46370362e-02,  2.67504454e-02, -4.02097888e-02,\n",
              "        2.54045110e-02, -3.17976996e-02,  3.71814370e-02,  5.45103438e-02,\n",
              "        1.46370362e-02,  4.37428690e-02,  1.24498932e-02,  9.21965018e-02,\n",
              "       -3.48260514e-02, -1.04309916e-01, -1.98525321e-02,  1.74130257e-02,\n",
              "        1.81385694e-04, -7.13345185e-02, -4.77806702e-02, -3.09144310e-03,\n",
              "       -9.58978292e-03, -4.87901196e-02,  7.13345185e-02, -5.45103438e-02,\n",
              "        4.40793522e-02,  5.14819883e-02, -7.73912249e-03, -2.91058309e-02,\n",
              "        4.22286913e-02,  7.43628740e-02, -7.36899078e-02, -1.07674748e-01,\n",
              "       -1.28536731e-01,  1.40902505e-03,  3.70131955e-02,  3.68449539e-02,\n",
              "        2.52362695e-02,  3.09144310e-03, -1.33752227e-02, -4.47523184e-02,\n",
              "        5.14819883e-02, -7.40263909e-02, -6.33535499e-04,  3.41530852e-02,\n",
              "        5.41738607e-02, -3.93685810e-02, -7.06615523e-02,  3.41530852e-02,\n",
              "        1.27190799e-01, -6.79696873e-02,  1.21975299e-02,  3.76861617e-02,\n",
              "        4.54252847e-02,  5.75386956e-02,  8.10925439e-02,  3.61719877e-02,\n",
              "       -1.70933664e-01, -5.65292425e-02, -5.38373739e-02, -1.80018730e-02,\n",
              "        3.54990177e-02,  8.37844163e-02, -6.49413317e-02,  1.74971465e-02,\n",
              "       -3.23024243e-02, -2.30491254e-02,  7.82324374e-03,  2.62457207e-02,\n",
              "        9.95991454e-02,  1.07001781e-01, -1.85065977e-02,  7.87371621e-02,\n",
              "        8.66445247e-03,  2.33856104e-02, -4.17239666e-02, -7.43628740e-02,\n",
              "       -9.42154080e-02, -1.05992332e-02, -1.16423324e-01,  5.28279245e-02,\n",
              "        8.04195777e-02, -7.16710091e-02,  1.28536731e-01,  2.82646213e-02,\n",
              "        8.68127644e-02, -2.62457207e-02, -1.60670914e-02, -7.69706210e-03,\n",
              "        1.03048105e-02, -2.04413775e-02, -1.60881213e-03, -8.41208994e-02,\n",
              "       -7.23439753e-02, -9.89261791e-02, -1.56464875e-02, -6.12400137e-02,\n",
              "       -9.62343067e-02, -2.96105556e-02,  3.14612165e-02,  8.68127644e-02],\n",
              "      dtype=float32)"
            ]
          },
          "metadata": {},
          "execution_count": 18
        }
      ]
    },
    {
      "cell_type": "code",
      "source": [
        "model['man']"
      ],
      "metadata": {
        "colab": {
          "base_uri": "https://localhost:8080/"
        },
        "id": "Q1G15GZ6R4To",
        "outputId": "f3a9823d-2cbd-4dfe-f948-c095e9fd4d0f"
      },
      "execution_count": 19,
      "outputs": [
        {
          "output_type": "execute_result",
          "data": {
            "text/plain": [
              "array([ 0.14116223,  0.05663395,  0.01500377, -0.03592452,  0.03888301,\n",
              "       -0.0178566 , -0.08579621,  0.0029849 ,  0.06212829,  0.00084198,\n",
              "        0.01246792, -0.1081962 , -0.03634716, -0.06550942, -0.04416603,\n",
              "        0.01764528, -0.04226414,  0.02567546,  0.01289056, -0.04353207,\n",
              "       -0.05663395,  0.00056132,  0.01130566, -0.11749431,  0.02768301,\n",
              "       -0.08283772, -0.03381131,  0.11242262,  0.1622943 , -0.01965282,\n",
              "        0.07015847,  0.0591698 , -0.02768301, -0.0089283 , -0.0418415 ,\n",
              "        0.10988677,  0.10735092, -0.05494338,  0.03106414,  0.13862638,\n",
              "        0.01363019, -0.01669434,  0.09171318, -0.00351321,  0.09636224,\n",
              "       -0.05832451, -0.03296603,  0.0045434 , -0.02239999,  0.01648301,\n",
              "       -0.05790187,  0.0540981 ,  0.02419622, -0.07903394,  0.03529056,\n",
              "       -0.03655848, -0.03359999, -0.01880754,  0.03507924, -0.0047283 ,\n",
              "        0.07565281,  0.1327094 , -0.01870188, -0.0061283 ,  0.03930565,\n",
              "       -0.00401509, -0.01489811, -0.04987169,  0.05388678, -0.0106717 ,\n",
              "        0.03698112,  0.06212829, -0.12003016,  0.01584905, -0.04775848,\n",
              "        0.05663395, -0.00744905, -0.03486792, -0.00306415, -0.0127849 ,\n",
              "        0.13017355, -0.03909433,  0.01363019, -0.08072451, -0.04839244,\n",
              "        0.04437735, -0.11242262, -0.00956226,  0.07269432, -0.02303396,\n",
              "       -0.06297357, -0.0045434 , -0.01315471, -0.01669434,  0.04987169,\n",
              "       -0.00270755, -0.06043772,  0.0346566 ,  0.02641509, -0.0663547 ,\n",
              "       -0.04818112, -0.061283  ,  0.08579621, -0.03000754,  0.12679242,\n",
              "       -0.06931319,  0.09044526,  0.00018078,  0.00792453, -0.08748677,\n",
              "        0.02060377,  0.02514716, -0.00533585, -0.00861132, -0.0015783 ,\n",
              "       -0.00586415, -0.0357132 , -0.01363019,  0.00310377,  0.08706413,\n",
              "        0.03592452, -0.02081509, -0.11411318, -0.0418415 , -0.09763017,\n",
              "       -0.0418415 ,  0.02810565, -0.01083019,  0.0367698 ,  0.01384151,\n",
              "       -0.03275471, -0.10988677, -0.05050565, -0.00626038, -0.06931319,\n",
              "       -0.00303774, -0.02472452,  0.01215094, -0.03972829,  0.10904148,\n",
              "        0.10439242,  0.02873962,  0.05621131,  0.07396225, -0.0591698 ,\n",
              "        0.08114715, -0.04332075, -0.01817358, -0.05198489,  0.0022717 ,\n",
              "        0.06762262, -0.08790942, -0.03085282, -0.02641509,  0.00707924,\n",
              "        0.07903394,  0.01553207, -0.0183849 ,  0.07269432, -0.06508677,\n",
              "       -0.07353961,  0.00792453,  0.12003016, -0.00549434, -0.01690566,\n",
              "       -0.06677734,  0.07987922, -0.03423395,  0.03909433, -0.0117283 ,\n",
              "        0.0357132 ,  0.02916226, -0.06973583, -0.08495092, -0.06593206,\n",
              "       -0.02039245,  0.02060377,  0.0255698 , -0.07311697, -0.06466413,\n",
              "        0.05621131,  0.01870188,  0.01135849, -0.07776602, -0.08495092,\n",
              "        0.02789433,  0.03867169,  0.07100376, -0.01648301, -0.04247546,\n",
              "       -0.00641887,  0.08114715,  0.05536602,  0.09847545,  0.0078717 ,\n",
              "       -0.03444527, -0.04923772, -0.03000754, -0.06719998, -0.03507924,\n",
              "       -0.04015093, -0.0490264 , -0.06550942, -0.0346566 , -0.02218867,\n",
              "       -0.0663547 ,  0.05050565,  0.0295849 ,  0.01405283, -0.14707921,\n",
              "       -0.03529056, -0.03613584,  0.0173283 ,  0.02123773, -0.10439242,\n",
              "       -0.05832451, -0.02567546,  0.05261885, -0.1479245 ,  0.0714264 ,\n",
              "        0.02673207, -0.0786113 ,  0.08706413, -0.03338867,  0.07100376,\n",
              "        0.0017434 ,  0.13101883, -0.04332075, -0.0591698 , -0.02578112,\n",
              "        0.02704905, -0.09213582, -0.02831697,  0.07776602, -0.03359999,\n",
              "       -0.00834717, -0.06508677, -0.00045896,  0.01479245,  0.01447547,\n",
              "        0.083683  ,  0.00850566, -0.08621885, -0.04606791,  0.00660377,\n",
              "        0.00401509,  0.0061283 , -0.01035471,  0.02546415,  0.01024905,\n",
              "        0.0540981 ,  0.02060377, -0.02409056,  0.05008301,  0.06381885,\n",
              "        0.04395471, -0.03085282, -0.03338867, -0.05452074,  0.01262641,\n",
              "        0.04120754, -0.05367546, -0.04733584, -0.05578867,  0.07058112,\n",
              "        0.12256601, -0.01363019,  0.05325282, -0.10058866, -0.04057357,\n",
              "       -0.05621131,  0.00586415, -0.0168    , -0.0357132 ,  0.00388302,\n",
              "        0.07058112,  0.04564527, -0.06001508, -0.0714264 , -0.01669434,\n",
              "        0.0469132 , -0.04543395,  0.02768301,  0.16821128, -0.02588679,\n",
              "       -0.02652075, -0.04522263, -0.07269432,  0.03106414,  0.06043772,\n",
              "        0.06719998, -0.01352452, -0.08748677, -0.05621131, -0.04353207,\n",
              "       -0.02768301, -0.03613584, -0.13101883, -0.0346566 ,  0.00908679],\n",
              "      dtype=float32)"
            ]
          },
          "metadata": {},
          "execution_count": 19
        }
      ]
    },
    {
      "cell_type": "code",
      "source": [
        "model['woman']"
      ],
      "metadata": {
        "colab": {
          "base_uri": "https://localhost:8080/"
        },
        "id": "wV3fmj63R7Z0",
        "outputId": "98a69798-6a36-4261-dd1e-a8fe655d5c4a"
      },
      "execution_count": 20,
      "outputs": [
        {
          "output_type": "execute_result",
          "data": {
            "text/plain": [
              "array([ 9.15656984e-02, -2.90509649e-02, -3.87959108e-02, -4.04507108e-02,\n",
              "        4.44957837e-02, -4.04507108e-02, -4.30248454e-02,  9.65301041e-03,\n",
              "        4.21055108e-02,  1.82947535e-02, -3.65895070e-02, -1.29442275e-01,\n",
              "       -2.37188265e-02, -4.70699184e-02, -1.02046113e-02,  3.54863070e-02,\n",
              "       -7.06048757e-02, -2.01334227e-02,  2.35349592e-02, -1.14916796e-02,\n",
              "       -1.09400786e-02, -1.81108862e-02, -2.07769554e-02, -1.53712705e-01,\n",
              "        3.81523743e-03, -8.75206292e-02, -6.43534064e-02,  9.92881060e-02,\n",
              "        1.31648675e-01, -7.97982216e-02,  5.40568605e-02, -2.34430260e-03,\n",
              "       -8.49464908e-02, -3.97152416e-02, -4.37603146e-02,  4.63344492e-02,\n",
              "        1.15468390e-01, -1.83866862e-02, -3.60379070e-02,  7.50176832e-02,\n",
              "       -5.92051297e-02, -1.05723450e-02,  5.95728643e-02, -9.14737675e-03,\n",
              "        4.89085875e-02, -3.38315032e-02, -2.86832321e-02,  1.33303478e-02,\n",
              "       -1.15376459e-02,  5.73664643e-02,  1.97656881e-02,  6.06186106e-04,\n",
              "        2.09608227e-02,  1.48932161e-02, -2.90509649e-02, -2.68445630e-02,\n",
              "       -3.47508378e-02, -2.64768284e-02,  7.64886141e-02,  5.76882297e-03,\n",
              "        1.12526521e-01,  6.61920756e-02, -1.70996189e-02,  3.58540379e-02,\n",
              "        1.55367507e-02,  2.92348322e-02,  3.56701724e-02,  6.32501990e-02,\n",
              "        7.57531524e-02, -2.72122957e-02,  6.91339448e-02,  8.12691525e-02,\n",
              "       -8.97270292e-02,  3.95313762e-02, -6.25147345e-03,  9.04624984e-02,\n",
              "        6.29744027e-03, -1.71915516e-02,  6.36179373e-02,  6.98694065e-02,\n",
              "        9.30366367e-02, -3.84281762e-02,  3.19928341e-02, -3.91636416e-02,\n",
              "       -1.78718597e-01,  9.92881060e-02, -5.92051297e-02,  3.10735013e-02,\n",
              "        8.27400908e-02, -1.14457123e-02, -9.63462368e-02, -7.42822140e-02,\n",
              "       -3.49347033e-02, -4.82650520e-03,  4.78053838e-02,  1.33303478e-02,\n",
              "        2.21559573e-02,  1.23190805e-02,  6.50888681e-02, -7.86030851e-03,\n",
              "       -6.21470027e-02, -1.05907314e-01,  3.19928341e-02, -6.39856681e-02,\n",
              "        8.71528983e-02, -5.33213913e-02,  2.97864322e-02, -7.24435449e-02,\n",
              "        2.86832321e-02, -8.42110217e-02, -4.02208790e-03,  2.13285573e-02,\n",
              "        5.88373989e-02,  2.70284303e-02, -5.88373989e-02, -5.44245914e-02,\n",
              "       -3.12573686e-02, -4.55989838e-02,  2.12366227e-02,  9.85526443e-02,\n",
              "        2.99702995e-02, -4.84948885e-03, -7.53854141e-02, -1.65480189e-02,\n",
              "       -3.82443070e-02,  4.89085875e-02,  3.54863070e-02,  7.17080804e-03,\n",
              "        5.36891259e-02,  5.99405989e-02, -2.81316303e-02, -1.22087598e-01,\n",
              "       -7.79595524e-02,  1.81108862e-02, -1.58125497e-02,  3.47508378e-02,\n",
              "       -1.65480189e-02, -8.31078216e-02, -2.35349592e-02,  3.16250995e-02,\n",
              "        8.64174291e-02, -4.21055108e-02,  3.40153687e-02,  7.86950216e-02,\n",
              "       -8.60496908e-02,  1.08113721e-01, -5.22181913e-02,  6.98694065e-02,\n",
              "       -7.94304833e-02, -7.72240832e-02,  1.13261990e-01, -6.87662065e-02,\n",
              "        4.63344492e-02, -6.06760681e-02,  3.53024378e-02,  4.74376529e-02,\n",
              "       -3.05218995e-02,  3.44750370e-05,  5.77341951e-02, -3.05218995e-02,\n",
              "       -7.28112832e-02,  2.66606966e-03,  1.44887090e-01,  3.98991108e-02,\n",
              "       -4.11861800e-02, -4.28409800e-02,  3.43831033e-02, -7.24435449e-02,\n",
              "        2.30752919e-02,  2.28684419e-03, -1.70996189e-02,  2.35349592e-02,\n",
              "       -4.92763221e-02, -6.91339448e-02, -6.65598065e-02, -7.06048757e-02,\n",
              "        9.19334367e-02,  7.13403448e-02, -7.28112832e-02, -8.64174310e-03,\n",
              "        9.56107676e-03,  1.48242665e-03, -5.22181913e-02, -1.05907314e-01,\n",
              "       -6.80307373e-02,  3.27283032e-02,  1.19513460e-02,  9.63462368e-02,\n",
              "       -8.67851600e-02, -1.97656881e-02, -8.21655092e-04,  6.03083335e-02,\n",
              "        5.92051297e-02,  1.05171852e-01,  5.18504567e-02,  3.93475108e-02,\n",
              "       -4.46796492e-02, -2.18801573e-02, -2.75800303e-02,  3.95313744e-03,\n",
              "       -6.69275373e-02, -4.04507108e-02, -6.65598065e-02, -4.63344492e-02,\n",
              "       -6.39856681e-02, -5.07472567e-02,  2.40865592e-02,  4.61505838e-02,\n",
              "        7.35467449e-02, -1.86073273e-01, -1.47093497e-02, -1.20432796e-02,\n",
              "       -5.97567298e-03, -1.54448170e-02, -5.40568605e-02, -3.23605686e-02,\n",
              "       -2.99702995e-02,  9.26688984e-02, -6.69275373e-02,  7.72240832e-02,\n",
              "        2.00414881e-02, -9.46914405e-03,  8.09014216e-02,  7.99820852e-03,\n",
              "        3.67733724e-02, -8.16368908e-02,  1.07378252e-01, -4.48635146e-02,\n",
              "       -6.28824681e-02, -1.35601813e-03,  1.73754189e-02, -6.14115335e-02,\n",
              "       -9.56107676e-02,  7.13403448e-02, -2.83154976e-02, -2.03172881e-02,\n",
              "       -6.69275373e-02, -1.62722170e-02, -2.78098648e-03,  5.92051297e-02,\n",
              "        9.56107676e-02, -5.73664643e-02, -1.98576208e-02, -4.70699184e-02,\n",
              "        5.81019297e-02,  4.21055108e-02, -5.81478979e-03,  3.37855378e-03,\n",
              "       -2.12366227e-02, -9.74494405e-03,  7.28112832e-02,  1.96737554e-02,\n",
              "       -5.88373980e-03, -2.14204900e-02,  4.41280492e-02,  2.26156246e-02,\n",
              "       -9.97477770e-03, -5.25859259e-02, -2.73961630e-02, -1.88463535e-02,\n",
              "        1.12158787e-02, -3.62217724e-02, -6.03083335e-02, -5.33213913e-02,\n",
              "        8.20046216e-02,  9.63462368e-02, -1.72834862e-02,  4.41280492e-02,\n",
              "       -9.26688984e-02, -2.73961630e-02, -3.27283032e-02,  5.92051297e-02,\n",
              "       -7.09726140e-02,  1.65480189e-02, -2.09148554e-03,  2.61090957e-02,\n",
              "        5.36891259e-02, -4.54151146e-02, -3.91636416e-02, -1.28706805e-02,\n",
              "        6.87662065e-02, -4.89085875e-02,  6.15954027e-03,  1.20616667e-01,\n",
              "       -4.22893800e-02, -4.25192108e-03, -5.22181913e-02, -8.31078216e-02,\n",
              "        2.85855524e-04,  1.48564428e-01,  3.89797762e-02, -2.50058938e-02,\n",
              "       -1.00759044e-01, -9.30366367e-02, -2.73961630e-02,  4.06345762e-02,\n",
              "        4.46796492e-02, -3.12573686e-02,  2.46381611e-02, -1.10779786e-02],\n",
              "      dtype=float32)"
            ]
          },
          "metadata": {},
          "execution_count": 20
        }
      ]
    },
    {
      "cell_type": "code",
      "source": [
        "vec = model['king'] - model['man'] + model['woman']"
      ],
      "metadata": {
        "id": "5SSAmXtCR-fP"
      },
      "execution_count": 21,
      "outputs": []
    },
    {
      "cell_type": "code",
      "source": [
        "model.most_similar([vec])"
      ],
      "metadata": {
        "colab": {
          "base_uri": "https://localhost:8080/"
        },
        "id": "-a1-B1aLSMeU",
        "outputId": "fed802aa-412c-4051-c59a-e6fa0f81453f"
      },
      "execution_count": 22,
      "outputs": [
        {
          "output_type": "execute_result",
          "data": {
            "text/plain": [
              "[('king', 0.7992597818374634),\n",
              " ('queen', 0.7118193507194519),\n",
              " ('monarch', 0.6189674735069275),\n",
              " ('princess', 0.5902431011199951),\n",
              " ('prince', 0.5377321839332581),\n",
              " ('kings', 0.5236844420433044),\n",
              " ('queens', 0.518113374710083),\n",
              " ('sultan', 0.5098593235015869),\n",
              " ('monarchy', 0.5087411999702454),\n",
              " ('throne', 0.5005807876586914)]"
            ]
          },
          "metadata": {},
          "execution_count": 22
        }
      ]
    },
    {
      "cell_type": "code",
      "source": [],
      "metadata": {
        "id": "nH0utMwjSRqg"
      },
      "execution_count": null,
      "outputs": []
    }
  ]
}